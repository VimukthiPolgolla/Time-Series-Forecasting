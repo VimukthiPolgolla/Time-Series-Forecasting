{
 "cells": [
  {
   "cell_type": "code",
   "execution_count": 38,
   "id": "cf08f057",
   "metadata": {},
   "outputs": [],
   "source": [
    "#importing libraries\n",
    "import pandas as pd\n",
    "import matplotlib.pyplot as plt\n",
    "from sklearn.metrics import mean_squared_error\n",
    "import numpy as np\n",
    "%matplotlib inline"
   ]
  },
  {
   "cell_type": "code",
   "execution_count": 5,
   "id": "b260653b",
   "metadata": {},
   "outputs": [],
   "source": [
    "f_birth = pd.read_csv('daily-total-female-births-in-cal.csv',index_col=[0], parse_dates=[0])"
   ]
  },
  {
   "cell_type": "code",
   "execution_count": 6,
   "id": "d8cd1df5",
   "metadata": {},
   "outputs": [
    {
     "data": {
      "text/html": [
       "<div>\n",
       "<style scoped>\n",
       "    .dataframe tbody tr th:only-of-type {\n",
       "        vertical-align: middle;\n",
       "    }\n",
       "\n",
       "    .dataframe tbody tr th {\n",
       "        vertical-align: top;\n",
       "    }\n",
       "\n",
       "    .dataframe thead th {\n",
       "        text-align: right;\n",
       "    }\n",
       "</style>\n",
       "<table border=\"1\" class=\"dataframe\">\n",
       "  <thead>\n",
       "    <tr style=\"text-align: right;\">\n",
       "      <th></th>\n",
       "      <th>Daily total female births in California, 1959</th>\n",
       "    </tr>\n",
       "    <tr>\n",
       "      <th>Date</th>\n",
       "      <th></th>\n",
       "    </tr>\n",
       "  </thead>\n",
       "  <tbody>\n",
       "    <tr>\n",
       "      <th>1959-01-01</th>\n",
       "      <td>35</td>\n",
       "    </tr>\n",
       "    <tr>\n",
       "      <th>1959-01-02</th>\n",
       "      <td>32</td>\n",
       "    </tr>\n",
       "    <tr>\n",
       "      <th>1959-01-03</th>\n",
       "      <td>30</td>\n",
       "    </tr>\n",
       "    <tr>\n",
       "      <th>1959-01-04</th>\n",
       "      <td>31</td>\n",
       "    </tr>\n",
       "    <tr>\n",
       "      <th>1959-01-05</th>\n",
       "      <td>44</td>\n",
       "    </tr>\n",
       "  </tbody>\n",
       "</table>\n",
       "</div>"
      ],
      "text/plain": [
       "            Daily total female births in California, 1959\n",
       "Date                                                     \n",
       "1959-01-01                                             35\n",
       "1959-01-02                                             32\n",
       "1959-01-03                                             30\n",
       "1959-01-04                                             31\n",
       "1959-01-05                                             44"
      ]
     },
     "execution_count": 6,
     "metadata": {},
     "output_type": "execute_result"
    }
   ],
   "source": [
    "f_birth.head()"
   ]
  },
  {
   "cell_type": "code",
   "execution_count": 7,
   "id": "bdba03f5",
   "metadata": {},
   "outputs": [
    {
     "data": {
      "text/html": [
       "<div>\n",
       "<style scoped>\n",
       "    .dataframe tbody tr th:only-of-type {\n",
       "        vertical-align: middle;\n",
       "    }\n",
       "\n",
       "    .dataframe tbody tr th {\n",
       "        vertical-align: top;\n",
       "    }\n",
       "\n",
       "    .dataframe thead th {\n",
       "        text-align: right;\n",
       "    }\n",
       "</style>\n",
       "<table border=\"1\" class=\"dataframe\">\n",
       "  <thead>\n",
       "    <tr style=\"text-align: right;\">\n",
       "      <th></th>\n",
       "      <th>Daily total female births in California, 1959</th>\n",
       "    </tr>\n",
       "    <tr>\n",
       "      <th>Date</th>\n",
       "      <th></th>\n",
       "    </tr>\n",
       "  </thead>\n",
       "  <tbody>\n",
       "    <tr>\n",
       "      <th>1959-12-28</th>\n",
       "      <td>52</td>\n",
       "    </tr>\n",
       "    <tr>\n",
       "      <th>1959-12-29</th>\n",
       "      <td>48</td>\n",
       "    </tr>\n",
       "    <tr>\n",
       "      <th>1959-12-30</th>\n",
       "      <td>55</td>\n",
       "    </tr>\n",
       "    <tr>\n",
       "      <th>1959-12-31</th>\n",
       "      <td>50</td>\n",
       "    </tr>\n",
       "    <tr>\n",
       "      <th>Daily total female births in California</th>\n",
       "      <td>1959</td>\n",
       "    </tr>\n",
       "  </tbody>\n",
       "</table>\n",
       "</div>"
      ],
      "text/plain": [
       "                                         Daily total female births in California, 1959\n",
       "Date                                                                                  \n",
       "1959-12-28                                                                          52\n",
       "1959-12-29                                                                          48\n",
       "1959-12-30                                                                          55\n",
       "1959-12-31                                                                          50\n",
       "Daily total female births in California                                           1959"
      ]
     },
     "execution_count": 7,
     "metadata": {},
     "output_type": "execute_result"
    }
   ],
   "source": [
    "f_birth.tail()"
   ]
  },
  {
   "cell_type": "code",
   "execution_count": 8,
   "id": "4aea13d4",
   "metadata": {},
   "outputs": [
    {
     "data": {
      "text/html": [
       "<div>\n",
       "<style scoped>\n",
       "    .dataframe tbody tr th:only-of-type {\n",
       "        vertical-align: middle;\n",
       "    }\n",
       "\n",
       "    .dataframe tbody tr th {\n",
       "        vertical-align: top;\n",
       "    }\n",
       "\n",
       "    .dataframe thead th {\n",
       "        text-align: right;\n",
       "    }\n",
       "</style>\n",
       "<table border=\"1\" class=\"dataframe\">\n",
       "  <thead>\n",
       "    <tr style=\"text-align: right;\">\n",
       "      <th></th>\n",
       "      <th>Daily total female births in California, 1959</th>\n",
       "    </tr>\n",
       "  </thead>\n",
       "  <tbody>\n",
       "    <tr>\n",
       "      <th>count</th>\n",
       "      <td>366.000000</td>\n",
       "    </tr>\n",
       "    <tr>\n",
       "      <th>mean</th>\n",
       "      <td>47.218579</td>\n",
       "    </tr>\n",
       "    <tr>\n",
       "      <th>std</th>\n",
       "      <td>100.472534</td>\n",
       "    </tr>\n",
       "    <tr>\n",
       "      <th>min</th>\n",
       "      <td>23.000000</td>\n",
       "    </tr>\n",
       "    <tr>\n",
       "      <th>25%</th>\n",
       "      <td>37.000000</td>\n",
       "    </tr>\n",
       "    <tr>\n",
       "      <th>50%</th>\n",
       "      <td>42.000000</td>\n",
       "    </tr>\n",
       "    <tr>\n",
       "      <th>75%</th>\n",
       "      <td>46.000000</td>\n",
       "    </tr>\n",
       "    <tr>\n",
       "      <th>max</th>\n",
       "      <td>1959.000000</td>\n",
       "    </tr>\n",
       "  </tbody>\n",
       "</table>\n",
       "</div>"
      ],
      "text/plain": [
       "       Daily total female births in California, 1959\n",
       "count                                     366.000000\n",
       "mean                                       47.218579\n",
       "std                                       100.472534\n",
       "min                                        23.000000\n",
       "25%                                        37.000000\n",
       "50%                                        42.000000\n",
       "75%                                        46.000000\n",
       "max                                      1959.000000"
      ]
     },
     "execution_count": 8,
     "metadata": {},
     "output_type": "execute_result"
    }
   ],
   "source": [
    "f_birth.describe()"
   ]
  },
  {
   "cell_type": "code",
   "execution_count": 14,
   "id": "495fa141",
   "metadata": {},
   "outputs": [],
   "source": [
    "#modifing the dataset by ejecting last row\n",
    "f_birth = f_birth[0:365]"
   ]
  },
  {
   "cell_type": "code",
   "execution_count": 15,
   "id": "5635f58d",
   "metadata": {},
   "outputs": [
    {
     "data": {
      "text/html": [
       "<div>\n",
       "<style scoped>\n",
       "    .dataframe tbody tr th:only-of-type {\n",
       "        vertical-align: middle;\n",
       "    }\n",
       "\n",
       "    .dataframe tbody tr th {\n",
       "        vertical-align: top;\n",
       "    }\n",
       "\n",
       "    .dataframe thead th {\n",
       "        text-align: right;\n",
       "    }\n",
       "</style>\n",
       "<table border=\"1\" class=\"dataframe\">\n",
       "  <thead>\n",
       "    <tr style=\"text-align: right;\">\n",
       "      <th></th>\n",
       "      <th>Daily total female births in California, 1959</th>\n",
       "    </tr>\n",
       "  </thead>\n",
       "  <tbody>\n",
       "    <tr>\n",
       "      <th>count</th>\n",
       "      <td>365.000000</td>\n",
       "    </tr>\n",
       "    <tr>\n",
       "      <th>mean</th>\n",
       "      <td>41.980822</td>\n",
       "    </tr>\n",
       "    <tr>\n",
       "      <th>std</th>\n",
       "      <td>7.348257</td>\n",
       "    </tr>\n",
       "    <tr>\n",
       "      <th>min</th>\n",
       "      <td>23.000000</td>\n",
       "    </tr>\n",
       "    <tr>\n",
       "      <th>25%</th>\n",
       "      <td>37.000000</td>\n",
       "    </tr>\n",
       "    <tr>\n",
       "      <th>50%</th>\n",
       "      <td>42.000000</td>\n",
       "    </tr>\n",
       "    <tr>\n",
       "      <th>75%</th>\n",
       "      <td>46.000000</td>\n",
       "    </tr>\n",
       "    <tr>\n",
       "      <th>max</th>\n",
       "      <td>73.000000</td>\n",
       "    </tr>\n",
       "  </tbody>\n",
       "</table>\n",
       "</div>"
      ],
      "text/plain": [
       "       Daily total female births in California, 1959\n",
       "count                                     365.000000\n",
       "mean                                       41.980822\n",
       "std                                         7.348257\n",
       "min                                        23.000000\n",
       "25%                                        37.000000\n",
       "50%                                        42.000000\n",
       "75%                                        46.000000\n",
       "max                                        73.000000"
      ]
     },
     "execution_count": 15,
     "metadata": {},
     "output_type": "execute_result"
    }
   ],
   "source": [
    "f_birth.describe()"
   ]
  },
  {
   "cell_type": "code",
   "execution_count": 16,
   "id": "30e513ea",
   "metadata": {},
   "outputs": [
    {
     "data": {
      "text/plain": [
       "<AxesSubplot:xlabel='Date'>"
      ]
     },
     "execution_count": 16,
     "metadata": {},
     "output_type": "execute_result"
    },
    {
     "data": {
      "image/png": "[encoded data removed]",
      "text/plain": [
       "<Figure size 432x288 with 1 Axes>"
      ]
     },
     "metadata": {
      "needs_background": "light"
     },
     "output_type": "display_data"
    }
   ],
   "source": [
    "f_birth.plot()"
   ]
  },
  {
   "cell_type": "code",
   "execution_count": null,
   "id": "707d3203",
   "metadata": {},
   "outputs": [],
   "source": [
    "# smoothing the cureve by putting average values for a fixed window\n",
    "#to see the trend\n",
    "#moving average\n",
    "f_birth_mean = f_birth.rolling(window =20).mean()"
   ]
  },
  {
   "cell_type": "code",
   "execution_count": 19,
   "id": "601292dd",
   "metadata": {},
   "outputs": [
    {
     "data": {
      "text/plain": [
       "<AxesSubplot:xlabel='Date'>"
      ]
     },
     "execution_count": 19,
     "metadata": {},
     "output_type": "execute_result"
    },
    {
     "data": {
      "image/png": "[encoded data removed]",
      "text/plain": [
       "<Figure size 432x288 with 1 Axes>"
      ]
     },
     "metadata": {
      "needs_background": "light"
     },
     "output_type": "display_data"
    },
    {
     "data": {
      "image/png": "[encoded data removed]",
      "text/plain": [
       "<Figure size 432x288 with 1 Axes>"
      ]
     },
     "metadata": {
      "needs_background": "light"
     },
     "output_type": "display_data"
    }
   ],
   "source": [
    "f_birth.plot()\n",
    "f_birth_mean.plot()"
   ]
  },
  {
   "cell_type": "markdown",
   "id": "41d05093",
   "metadata": {},
   "source": [
    "# BASELINE MODEL"
   ]
  },
  {
   "cell_type": "code",
   "execution_count": null,
   "id": "b87b4d8a",
   "metadata": {},
   "outputs": [],
   "source": [
    "#series vs data frame (Converting dataframe in to series)\n",
    "#for knwoledge\n",
    "#help to create the baseline model\n",
    "series_value = f_birth.values"
   ]
  },
  {
   "cell_type": "code",
   "execution_count": 34,
   "id": "7cafb1cf",
   "metadata": {},
   "outputs": [],
   "source": [
    "values = pd.DataFrame(series_value)"
   ]
  },
  {
   "cell_type": "code",
   "execution_count": 35,
   "id": "2f3dc408",
   "metadata": {},
   "outputs": [],
   "source": [
    "birth_df = pd.concat([values,values.shift(1)],axis=1)"
   ]
  },
  {
   "cell_type": "code",
   "execution_count": 36,
   "id": "068e3294",
   "metadata": {},
   "outputs": [],
   "source": [
    "birth_df.columns = [\"Actual_birth\",\"Forcast_birth\"]"
   ]
  },
  {
   "cell_type": "code",
   "execution_count": 37,
   "id": "6a8abca5",
   "metadata": {},
   "outputs": [
    {
     "data": {
      "text/html": [
       "<div>\n",
       "<style scoped>\n",
       "    .dataframe tbody tr th:only-of-type {\n",
       "        vertical-align: middle;\n",
       "    }\n",
       "\n",
       "    .dataframe tbody tr th {\n",
       "        vertical-align: top;\n",
       "    }\n",
       "\n",
       "    .dataframe thead th {\n",
       "        text-align: right;\n",
       "    }\n",
       "</style>\n",
       "<table border=\"1\" class=\"dataframe\">\n",
       "  <thead>\n",
       "    <tr style=\"text-align: right;\">\n",
       "      <th></th>\n",
       "      <th>Actual_birth</th>\n",
       "      <th>Forcast_birth</th>\n",
       "    </tr>\n",
       "  </thead>\n",
       "  <tbody>\n",
       "    <tr>\n",
       "      <th>0</th>\n",
       "      <td>35</td>\n",
       "      <td>NaN</td>\n",
       "    </tr>\n",
       "    <tr>\n",
       "      <th>1</th>\n",
       "      <td>32</td>\n",
       "      <td>35.0</td>\n",
       "    </tr>\n",
       "    <tr>\n",
       "      <th>2</th>\n",
       "      <td>30</td>\n",
       "      <td>32.0</td>\n",
       "    </tr>\n",
       "    <tr>\n",
       "      <th>3</th>\n",
       "      <td>31</td>\n",
       "      <td>30.0</td>\n",
       "    </tr>\n",
       "    <tr>\n",
       "      <th>4</th>\n",
       "      <td>44</td>\n",
       "      <td>31.0</td>\n",
       "    </tr>\n",
       "  </tbody>\n",
       "</table>\n",
       "</div>"
      ],
      "text/plain": [
       "   Actual_birth  Forcast_birth\n",
       "0            35            NaN\n",
       "1            32           35.0\n",
       "2            30           32.0\n",
       "3            31           30.0\n",
       "4            44           31.0"
      ]
     },
     "execution_count": 37,
     "metadata": {},
     "output_type": "execute_result"
    }
   ],
   "source": [
    "birth_df.head()"
   ]
  },
  {
   "cell_type": "code",
   "execution_count": 39,
   "id": "81d43374",
   "metadata": {},
   "outputs": [],
   "source": [
    "birth_test = birth_df[1:]"
   ]
  },
  {
   "cell_type": "code",
   "execution_count": 40,
   "id": "7d28c330",
   "metadata": {},
   "outputs": [
    {
     "data": {
      "text/html": [
       "<div>\n",
       "<style scoped>\n",
       "    .dataframe tbody tr th:only-of-type {\n",
       "        vertical-align: middle;\n",
       "    }\n",
       "\n",
       "    .dataframe tbody tr th {\n",
       "        vertical-align: top;\n",
       "    }\n",
       "\n",
       "    .dataframe thead th {\n",
       "        text-align: right;\n",
       "    }\n",
       "</style>\n",
       "<table border=\"1\" class=\"dataframe\">\n",
       "  <thead>\n",
       "    <tr style=\"text-align: right;\">\n",
       "      <th></th>\n",
       "      <th>Actual_birth</th>\n",
       "      <th>Forcast_birth</th>\n",
       "    </tr>\n",
       "  </thead>\n",
       "  <tbody>\n",
       "    <tr>\n",
       "      <th>1</th>\n",
       "      <td>32</td>\n",
       "      <td>35.0</td>\n",
       "    </tr>\n",
       "    <tr>\n",
       "      <th>2</th>\n",
       "      <td>30</td>\n",
       "      <td>32.0</td>\n",
       "    </tr>\n",
       "    <tr>\n",
       "      <th>3</th>\n",
       "      <td>31</td>\n",
       "      <td>30.0</td>\n",
       "    </tr>\n",
       "    <tr>\n",
       "      <th>4</th>\n",
       "      <td>44</td>\n",
       "      <td>31.0</td>\n",
       "    </tr>\n",
       "    <tr>\n",
       "      <th>5</th>\n",
       "      <td>29</td>\n",
       "      <td>44.0</td>\n",
       "    </tr>\n",
       "  </tbody>\n",
       "</table>\n",
       "</div>"
      ],
      "text/plain": [
       "   Actual_birth  Forcast_birth\n",
       "1            32           35.0\n",
       "2            30           32.0\n",
       "3            31           30.0\n",
       "4            44           31.0\n",
       "5            29           44.0"
      ]
     },
     "execution_count": 40,
     "metadata": {},
     "output_type": "execute_result"
    }
   ],
   "source": [
    "birth_test.head()"
   ]
  },
  {
   "cell_type": "code",
   "execution_count": 42,
   "id": "18fbfdf7",
   "metadata": {},
   "outputs": [
    {
     "data": {
      "text/html": [
       "<div>\n",
       "<style scoped>\n",
       "    .dataframe tbody tr th:only-of-type {\n",
       "        vertical-align: middle;\n",
       "    }\n",
       "\n",
       "    .dataframe tbody tr th {\n",
       "        vertical-align: top;\n",
       "    }\n",
       "\n",
       "    .dataframe thead th {\n",
       "        text-align: right;\n",
       "    }\n",
       "</style>\n",
       "<table border=\"1\" class=\"dataframe\">\n",
       "  <thead>\n",
       "    <tr style=\"text-align: right;\">\n",
       "      <th></th>\n",
       "      <th>Actual_birth</th>\n",
       "      <th>Forcast_birth</th>\n",
       "    </tr>\n",
       "  </thead>\n",
       "  <tbody>\n",
       "    <tr>\n",
       "      <th>360</th>\n",
       "      <td>37</td>\n",
       "      <td>34.0</td>\n",
       "    </tr>\n",
       "    <tr>\n",
       "      <th>361</th>\n",
       "      <td>52</td>\n",
       "      <td>37.0</td>\n",
       "    </tr>\n",
       "    <tr>\n",
       "      <th>362</th>\n",
       "      <td>48</td>\n",
       "      <td>52.0</td>\n",
       "    </tr>\n",
       "    <tr>\n",
       "      <th>363</th>\n",
       "      <td>55</td>\n",
       "      <td>48.0</td>\n",
       "    </tr>\n",
       "    <tr>\n",
       "      <th>364</th>\n",
       "      <td>50</td>\n",
       "      <td>55.0</td>\n",
       "    </tr>\n",
       "  </tbody>\n",
       "</table>\n",
       "</div>"
      ],
      "text/plain": [
       "     Actual_birth  Forcast_birth\n",
       "360            37           34.0\n",
       "361            52           37.0\n",
       "362            48           52.0\n",
       "363            55           48.0\n",
       "364            50           55.0"
      ]
     },
     "execution_count": 42,
     "metadata": {},
     "output_type": "execute_result"
    }
   ],
   "source": [
    "birth_test.tail()"
   ]
  },
  {
   "cell_type": "code",
   "execution_count": 41,
   "id": "8d364d12",
   "metadata": {},
   "outputs": [],
   "source": [
    "birth_error = mean_squared_error(birth_test.Actual_birth,birth_test.Forcast_birth)"
   ]
  },
  {
   "cell_type": "code",
   "execution_count": 43,
   "id": "0664e64f",
   "metadata": {},
   "outputs": [
    {
     "data": {
      "text/plain": [
       "9.177283229394606"
      ]
     },
     "execution_count": 43,
     "metadata": {},
     "output_type": "execute_result"
    }
   ],
   "source": [
    "np.sqrt(birth_error)"
   ]
  },
  {
   "cell_type": "markdown",
   "id": "94cb64f1",
   "metadata": {},
   "source": [
    "# ARIMA - Autoregressive (P) Integrated (d) Moving Average (q)"
   ]
  },
  {
   "cell_type": "code",
   "execution_count": 44,
   "id": "869f82fe",
   "metadata": {},
   "outputs": [],
   "source": [
    "from statsmodels.graphics.tsaplots import plot_acf,plot_pacf"
   ]
  },
  {
   "cell_type": "code",
   "execution_count": 45,
   "id": "8910e016",
   "metadata": {},
   "outputs": [
    {
     "data": {
      "image/png": "[encoded data removed]",
      "text/plain": [
       "<Figure size 432x288 with 1 Axes>"
      ]
     },
     "execution_count": 45,
     "metadata": {},
     "output_type": "execute_result"
    },
    {
     "data": {
      "image/png": "[encoded data removed]",
      "text/plain": [
       "<Figure size 432x288 with 1 Axes>"
      ]
     },
     "metadata": {
      "needs_background": "light"
     },
     "output_type": "display_data"
    }
   ],
   "source": [
    "#plot_acf is to identify Q\n",
    "plot_acf(f_birth)"
   ]
  },
  {
   "cell_type": "code",
   "execution_count": 46,
   "id": "2d203ce1",
   "metadata": {},
   "outputs": [
    {
     "name": "stderr",
     "output_type": "stream",
     "text": [
      "C:\\Users\\DELL\\anaconda3\\lib\\site-packages\\statsmodels\\graphics\\tsaplots.py:348: FutureWarning: The default method 'yw' can produce PACF values outside of the [-1,1] interval. After 0.13, the default will change tounadjusted Yule-Walker ('ywm'). You can use this method now by setting method='ywm'.\n",
      "  warnings.warn(\n"
     ]
    },
    {
     "data": {
      "image/png": "[encoded data removed]",
      "text/plain": [
       "<Figure size 432x288 with 1 Axes>"
      ]
     },
     "execution_count": 46,
     "metadata": {},
     "output_type": "execute_result"
    },
    {
     "data": {
      "image/png": "[encoded data removed]",
      "text/plain": [
       "<Figure size 432x288 with 1 Axes>"
      ]
     },
     "metadata": {
      "needs_background": "light"
     },
     "output_type": "display_data"
    }
   ],
   "source": [
    "#To identify the value of p\n",
    "plot_pacf(f_birth)"
   ]
  },
  {
   "cell_type": "code",
   "execution_count": 47,
   "id": "0f33704b",
   "metadata": {},
   "outputs": [],
   "source": [
    "#Splitting training and testng data\n",
    "birth_train = f_birth[0:330]\n",
    "birth_test = f_birth[330:365]"
   ]
  },
  {
   "cell_type": "code",
   "execution_count": 48,
   "id": "7c7d240c",
   "metadata": {},
   "outputs": [
    {
     "data": {
      "text/plain": [
       "330"
      ]
     },
     "execution_count": 48,
     "metadata": {},
     "output_type": "execute_result"
    }
   ],
   "source": [
    "birth_train.size"
   ]
  },
  {
   "cell_type": "code",
   "execution_count": 49,
   "id": "d686d89e",
   "metadata": {},
   "outputs": [
    {
     "data": {
      "text/plain": [
       "35"
      ]
     },
     "execution_count": 49,
     "metadata": {},
     "output_type": "execute_result"
    }
   ],
   "source": [
    "birth_test.size"
   ]
  },
  {
   "cell_type": "code",
   "execution_count": 54,
   "id": "c9fbc3f5",
   "metadata": {},
   "outputs": [],
   "source": [
    "#calling the ARIMA model\n",
    "from statsmodels.tsa.arima.model import ARIMA"
   ]
  },
  {
   "cell_type": "code",
   "execution_count": 71,
   "id": "e3a1b2e7",
   "metadata": {},
   "outputs": [
    {
     "name": "stderr",
     "output_type": "stream",
     "text": [
      "C:\\Users\\DELL\\anaconda3\\lib\\site-packages\\statsmodels\\tsa\\base\\tsa_model.py:471: ValueWarning: No frequency information was provided, so inferred frequency D will be used.\n",
      "  self._init_dates(dates, freq)\n",
      "C:\\Users\\DELL\\anaconda3\\lib\\site-packages\\statsmodels\\tsa\\base\\tsa_model.py:471: ValueWarning: No frequency information was provided, so inferred frequency D will be used.\n",
      "  self._init_dates(dates, freq)\n",
      "C:\\Users\\DELL\\anaconda3\\lib\\site-packages\\statsmodels\\tsa\\base\\tsa_model.py:471: ValueWarning: No frequency information was provided, so inferred frequency D will be used.\n",
      "  self._init_dates(dates, freq)\n",
      "C:\\Users\\DELL\\anaconda3\\lib\\site-packages\\statsmodels\\tsa\\base\\tsa_model.py:471: ValueWarning: No frequency information was provided, so inferred frequency D will be used.\n",
      "  self._init_dates(dates, freq)\n",
      "C:\\Users\\DELL\\anaconda3\\lib\\site-packages\\statsmodels\\tsa\\base\\tsa_model.py:471: ValueWarning: No frequency information was provided, so inferred frequency D will be used.\n",
      "  self._init_dates(dates, freq)\n",
      "C:\\Users\\DELL\\anaconda3\\lib\\site-packages\\statsmodels\\tsa\\base\\tsa_model.py:471: ValueWarning: No frequency information was provided, so inferred frequency D will be used.\n",
      "  self._init_dates(dates, freq)\n",
      "C:\\Users\\DELL\\anaconda3\\lib\\site-packages\\statsmodels\\tsa\\base\\tsa_model.py:471: ValueWarning: No frequency information was provided, so inferred frequency D will be used.\n",
      "  self._init_dates(dates, freq)\n",
      "C:\\Users\\DELL\\anaconda3\\lib\\site-packages\\statsmodels\\tsa\\base\\tsa_model.py:471: ValueWarning: No frequency information was provided, so inferred frequency D will be used.\n",
      "  self._init_dates(dates, freq)\n",
      "C:\\Users\\DELL\\anaconda3\\lib\\site-packages\\statsmodels\\tsa\\base\\tsa_model.py:471: ValueWarning: No frequency information was provided, so inferred frequency D will be used.\n",
      "  self._init_dates(dates, freq)\n",
      "C:\\Users\\DELL\\anaconda3\\lib\\site-packages\\statsmodels\\tsa\\base\\tsa_model.py:471: ValueWarning: No frequency information was provided, so inferred frequency D will be used.\n",
      "  self._init_dates(dates, freq)\n",
      "C:\\Users\\DELL\\anaconda3\\lib\\site-packages\\statsmodels\\tsa\\base\\tsa_model.py:471: ValueWarning: No frequency information was provided, so inferred frequency D will be used.\n",
      "  self._init_dates(dates, freq)\n",
      "C:\\Users\\DELL\\anaconda3\\lib\\site-packages\\statsmodels\\tsa\\base\\tsa_model.py:471: ValueWarning: No frequency information was provided, so inferred frequency D will be used.\n",
      "  self._init_dates(dates, freq)\n"
     ]
    }
   ],
   "source": [
    "birth_model_1 = ARIMA(birth_train, order=(2,1,3))\n",
    "birth_model_2 = ARIMA(birth_train, order=(2,1,1))\n",
    "birth_model_3 = ARIMA(birth_train, order=(2,1,2))\n",
    "birth_model_4 = ARIMA(birth_train, order=(1,1,1))"
   ]
  },
  {
   "cell_type": "code",
   "execution_count": 73,
   "id": "a2160721",
   "metadata": {},
   "outputs": [
    {
     "name": "stderr",
     "output_type": "stream",
     "text": [
      "C:\\Users\\DELL\\anaconda3\\lib\\site-packages\\statsmodels\\base\\model.py:604: ConvergenceWarning: Maximum Likelihood optimization failed to converge. Check mle_retvals\n",
      "  warnings.warn(\"Maximum Likelihood optimization failed to \"\n",
      "C:\\Users\\DELL\\anaconda3\\lib\\site-packages\\statsmodels\\tsa\\statespace\\sarimax.py:966: UserWarning: Non-stationary starting autoregressive parameters found. Using zeros as starting parameters.\n",
      "  warn('Non-stationary starting autoregressive parameters'\n",
      "C:\\Users\\DELL\\anaconda3\\lib\\site-packages\\statsmodels\\tsa\\statespace\\sarimax.py:978: UserWarning: Non-invertible starting MA parameters found. Using zeros as starting parameters.\n",
      "  warn('Non-invertible starting MA parameters found.'\n"
     ]
    }
   ],
   "source": [
    "birth_model_fit_1 = birth_model_1.fit()\n",
    "birth_model_fit_2 = birth_model_2.fit()\n",
    "birth_model_fit_3 = birth_model_3.fit()\n",
    "birth_model_fit_4 = birth_model_4.fit()"
   ]
  },
  {
   "cell_type": "code",
   "execution_count": 75,
   "id": "f14392a2",
   "metadata": {},
   "outputs": [
    {
     "data": {
      "text/plain": [
       "2229.85216214129"
      ]
     },
     "execution_count": 75,
     "metadata": {},
     "output_type": "execute_result"
    }
   ],
   "source": [
    "#aic is a parameter that checks the model accurecy\n",
    "birth_model_fit_1.aic"
   ]
  },
  {
   "cell_type": "code",
   "execution_count": 76,
   "id": "fa0e2ead",
   "metadata": {},
   "outputs": [
    {
     "data": {
      "text/plain": [
       "2229.5119048771276"
      ]
     },
     "execution_count": 76,
     "metadata": {},
     "output_type": "execute_result"
    }
   ],
   "source": [
    "#aic is a parameter that checks the model accurecy\n",
    "birth_model_fit_2.aic"
   ]
  },
  {
   "cell_type": "code",
   "execution_count": 77,
   "id": "b72fcbe7",
   "metadata": {},
   "outputs": [
    {
     "data": {
      "text/plain": [
       "2231.485603126459"
      ]
     },
     "execution_count": 77,
     "metadata": {},
     "output_type": "execute_result"
    }
   ],
   "source": [
    "#aic is a parameter that checks the model accurecy\n",
    "birth_model_fit_3.aic"
   ]
  },
  {
   "cell_type": "code",
   "execution_count": 78,
   "id": "8bada48d",
   "metadata": {},
   "outputs": [
    {
     "data": {
      "text/plain": [
       "2228.0930224380127"
      ]
     },
     "execution_count": 78,
     "metadata": {},
     "output_type": "execute_result"
    }
   ],
   "source": [
    "#aic is a parameter that checks the model accurecy\n",
    "birth_model_fit_4.aic"
   ]
  },
  {
   "cell_type": "code",
   "execution_count": 83,
   "id": "24064052",
   "metadata": {},
   "outputs": [],
   "source": [
    "birth_forecast_4 = birth_model_fit_4.forecast(steps = 35)\n",
    "birth_forecast_3 = birth_model_fit_3.forecast(steps = 35)  \n",
    "birth_forecast_2 = birth_model_fit_2.forecast(steps = 35)  \n",
    "birth_forecast_1 = birth_model_fit_1.forecast(steps = 35)  "
   ]
  },
  {
   "cell_type": "code",
   "execution_count": 84,
   "id": "17700823",
   "metadata": {},
   "outputs": [
    {
     "data": {
      "text/plain": [
       "1959-11-27    44.948175\n",
       "1959-11-28    44.503403\n",
       "1959-11-29    44.454580\n",
       "1959-11-30    44.449221\n",
       "1959-12-01    44.448633\n",
       "1959-12-02    44.448568\n",
       "1959-12-03    44.448561\n",
       "1959-12-04    44.448560\n",
       "1959-12-05    44.448560\n",
       "1959-12-06    44.448560\n",
       "1959-12-07    44.448560\n",
       "1959-12-08    44.448560\n",
       "1959-12-09    44.448560\n",
       "1959-12-10    44.448560\n",
       "1959-12-11    44.448560\n",
       "1959-12-12    44.448560\n",
       "1959-12-13    44.448560\n",
       "1959-12-14    44.448560\n",
       "1959-12-15    44.448560\n",
       "1959-12-16    44.448560\n",
       "1959-12-17    44.448560\n",
       "1959-12-18    44.448560\n",
       "1959-12-19    44.448560\n",
       "1959-12-20    44.448560\n",
       "1959-12-21    44.448560\n",
       "1959-12-22    44.448560\n",
       "1959-12-23    44.448560\n",
       "1959-12-24    44.448560\n",
       "1959-12-25    44.448560\n",
       "1959-12-26    44.448560\n",
       "1959-12-27    44.448560\n",
       "1959-12-28    44.448560\n",
       "1959-12-29    44.448560\n",
       "1959-12-30    44.448560\n",
       "1959-12-31    44.448560\n",
       "Freq: D, Name: predicted_mean, dtype: float64"
      ]
     },
     "execution_count": 84,
     "metadata": {},
     "output_type": "execute_result"
    }
   ],
   "source": [
    "birth_forecast_4"
   ]
  },
  {
   "cell_type": "code",
   "execution_count": 66,
   "id": "f1691844",
   "metadata": {},
   "outputs": [
    {
     "data": {
      "text/html": [
       "<div>\n",
       "<style scoped>\n",
       "    .dataframe tbody tr th:only-of-type {\n",
       "        vertical-align: middle;\n",
       "    }\n",
       "\n",
       "    .dataframe tbody tr th {\n",
       "        vertical-align: top;\n",
       "    }\n",
       "\n",
       "    .dataframe thead th {\n",
       "        text-align: right;\n",
       "    }\n",
       "</style>\n",
       "<table border=\"1\" class=\"dataframe\">\n",
       "  <thead>\n",
       "    <tr style=\"text-align: right;\">\n",
       "      <th></th>\n",
       "      <th>Daily total female births in California, 1959</th>\n",
       "    </tr>\n",
       "    <tr>\n",
       "      <th>Date</th>\n",
       "      <th></th>\n",
       "    </tr>\n",
       "  </thead>\n",
       "  <tbody>\n",
       "    <tr>\n",
       "      <th>1959-11-27</th>\n",
       "      <td>51</td>\n",
       "    </tr>\n",
       "    <tr>\n",
       "      <th>1959-11-28</th>\n",
       "      <td>46</td>\n",
       "    </tr>\n",
       "    <tr>\n",
       "      <th>1959-11-29</th>\n",
       "      <td>44</td>\n",
       "    </tr>\n",
       "    <tr>\n",
       "      <th>1959-11-30</th>\n",
       "      <td>52</td>\n",
       "    </tr>\n",
       "    <tr>\n",
       "      <th>1959-12-01</th>\n",
       "      <td>45</td>\n",
       "    </tr>\n",
       "    <tr>\n",
       "      <th>1959-12-02</th>\n",
       "      <td>32</td>\n",
       "    </tr>\n",
       "    <tr>\n",
       "      <th>1959-12-03</th>\n",
       "      <td>46</td>\n",
       "    </tr>\n",
       "    <tr>\n",
       "      <th>1959-12-04</th>\n",
       "      <td>41</td>\n",
       "    </tr>\n",
       "    <tr>\n",
       "      <th>1959-12-05</th>\n",
       "      <td>34</td>\n",
       "    </tr>\n",
       "    <tr>\n",
       "      <th>1959-12-06</th>\n",
       "      <td>33</td>\n",
       "    </tr>\n",
       "    <tr>\n",
       "      <th>1959-12-07</th>\n",
       "      <td>36</td>\n",
       "    </tr>\n",
       "    <tr>\n",
       "      <th>1959-12-08</th>\n",
       "      <td>49</td>\n",
       "    </tr>\n",
       "    <tr>\n",
       "      <th>1959-12-09</th>\n",
       "      <td>43</td>\n",
       "    </tr>\n",
       "    <tr>\n",
       "      <th>1959-12-10</th>\n",
       "      <td>43</td>\n",
       "    </tr>\n",
       "    <tr>\n",
       "      <th>1959-12-11</th>\n",
       "      <td>34</td>\n",
       "    </tr>\n",
       "    <tr>\n",
       "      <th>1959-12-12</th>\n",
       "      <td>39</td>\n",
       "    </tr>\n",
       "    <tr>\n",
       "      <th>1959-12-13</th>\n",
       "      <td>35</td>\n",
       "    </tr>\n",
       "    <tr>\n",
       "      <th>1959-12-14</th>\n",
       "      <td>52</td>\n",
       "    </tr>\n",
       "    <tr>\n",
       "      <th>1959-12-15</th>\n",
       "      <td>47</td>\n",
       "    </tr>\n",
       "    <tr>\n",
       "      <th>1959-12-16</th>\n",
       "      <td>52</td>\n",
       "    </tr>\n",
       "    <tr>\n",
       "      <th>1959-12-17</th>\n",
       "      <td>39</td>\n",
       "    </tr>\n",
       "    <tr>\n",
       "      <th>1959-12-18</th>\n",
       "      <td>40</td>\n",
       "    </tr>\n",
       "    <tr>\n",
       "      <th>1959-12-19</th>\n",
       "      <td>42</td>\n",
       "    </tr>\n",
       "    <tr>\n",
       "      <th>1959-12-20</th>\n",
       "      <td>42</td>\n",
       "    </tr>\n",
       "    <tr>\n",
       "      <th>1959-12-21</th>\n",
       "      <td>53</td>\n",
       "    </tr>\n",
       "    <tr>\n",
       "      <th>1959-12-22</th>\n",
       "      <td>39</td>\n",
       "    </tr>\n",
       "    <tr>\n",
       "      <th>1959-12-23</th>\n",
       "      <td>40</td>\n",
       "    </tr>\n",
       "    <tr>\n",
       "      <th>1959-12-24</th>\n",
       "      <td>38</td>\n",
       "    </tr>\n",
       "    <tr>\n",
       "      <th>1959-12-25</th>\n",
       "      <td>44</td>\n",
       "    </tr>\n",
       "    <tr>\n",
       "      <th>1959-12-26</th>\n",
       "      <td>34</td>\n",
       "    </tr>\n",
       "    <tr>\n",
       "      <th>1959-12-27</th>\n",
       "      <td>37</td>\n",
       "    </tr>\n",
       "    <tr>\n",
       "      <th>1959-12-28</th>\n",
       "      <td>52</td>\n",
       "    </tr>\n",
       "    <tr>\n",
       "      <th>1959-12-29</th>\n",
       "      <td>48</td>\n",
       "    </tr>\n",
       "    <tr>\n",
       "      <th>1959-12-30</th>\n",
       "      <td>55</td>\n",
       "    </tr>\n",
       "    <tr>\n",
       "      <th>1959-12-31</th>\n",
       "      <td>50</td>\n",
       "    </tr>\n",
       "  </tbody>\n",
       "</table>\n",
       "</div>"
      ],
      "text/plain": [
       "            Daily total female births in California, 1959\n",
       "Date                                                     \n",
       "1959-11-27                                             51\n",
       "1959-11-28                                             46\n",
       "1959-11-29                                             44\n",
       "1959-11-30                                             52\n",
       "1959-12-01                                             45\n",
       "1959-12-02                                             32\n",
       "1959-12-03                                             46\n",
       "1959-12-04                                             41\n",
       "1959-12-05                                             34\n",
       "1959-12-06                                             33\n",
       "1959-12-07                                             36\n",
       "1959-12-08                                             49\n",
       "1959-12-09                                             43\n",
       "1959-12-10                                             43\n",
       "1959-12-11                                             34\n",
       "1959-12-12                                             39\n",
       "1959-12-13                                             35\n",
       "1959-12-14                                             52\n",
       "1959-12-15                                             47\n",
       "1959-12-16                                             52\n",
       "1959-12-17                                             39\n",
       "1959-12-18                                             40\n",
       "1959-12-19                                             42\n",
       "1959-12-20                                             42\n",
       "1959-12-21                                             53\n",
       "1959-12-22                                             39\n",
       "1959-12-23                                             40\n",
       "1959-12-24                                             38\n",
       "1959-12-25                                             44\n",
       "1959-12-26                                             34\n",
       "1959-12-27                                             37\n",
       "1959-12-28                                             52\n",
       "1959-12-29                                             48\n",
       "1959-12-30                                             55\n",
       "1959-12-31                                             50"
      ]
     },
     "execution_count": 66,
     "metadata": {},
     "output_type": "execute_result"
    }
   ],
   "source": [
    "birth_test"
   ]
  },
  {
   "cell_type": "code",
   "execution_count": 85,
   "id": "37ee581c",
   "metadata": {},
   "outputs": [
    {
     "data": {
      "text/plain": [
       "6.664545092449518"
      ]
     },
     "execution_count": 85,
     "metadata": {},
     "output_type": "execute_result"
    }
   ],
   "source": [
    "np.sqrt(mean_squared_error(birth_test,birth_forecast_1))"
   ]
  },
  {
   "cell_type": "code",
   "execution_count": 86,
   "id": "f2be435b",
   "metadata": {},
   "outputs": [
    {
     "data": {
      "text/plain": [
       "6.665915229799631"
      ]
     },
     "execution_count": 86,
     "metadata": {},
     "output_type": "execute_result"
    }
   ],
   "source": [
    "np.sqrt(mean_squared_error(birth_test,birth_forecast_2))"
   ]
  },
  {
   "cell_type": "code",
   "execution_count": 87,
   "id": "d40c55df",
   "metadata": {},
   "outputs": [
    {
     "data": {
      "text/plain": [
       "6.666249894165663"
      ]
     },
     "execution_count": 87,
     "metadata": {},
     "output_type": "execute_result"
    }
   ],
   "source": [
    "np.sqrt(mean_squared_error(birth_test,birth_forecast_3))"
   ]
  },
  {
   "cell_type": "code",
   "execution_count": 88,
   "id": "577d3c05",
   "metadata": {},
   "outputs": [
    {
     "data": {
      "text/plain": [
       "6.661571736954111"
      ]
     },
     "execution_count": 88,
     "metadata": {},
     "output_type": "execute_result"
    }
   ],
   "source": [
    "np.sqrt(mean_squared_error(birth_test,birth_forecast_4))"
   ]
  },
  {
   "cell_type": "markdown",
   "id": "cfd9b33e",
   "metadata": {},
   "source": [
    "# Conclusion: ARIMA model is better that Base line model(Lower mean square error)"
   ]
  }
 ],
 "metadata": {
  "kernelspec": {
   "display_name": "Python 3 (ipykernel)",
   "language": "python",
   "name": "python3"
  },
  "language_info": {
   "codemirror_mode": {
    "name": "ipython",
    "version": 3
   },
   "file_extension": ".py",
   "mimetype": "text/x-python",
   "name": "python",
   "nbconvert_exporter": "python",
   "pygments_lexer": "ipython3",
   "version": "3.9.12"
  }
 },
 "nbformat": 4,
 "nbformat_minor": 5
}
